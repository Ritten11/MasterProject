{
 "cells": [
  {
   "cell_type": "code",
   "execution_count": 1,
   "metadata": {
    "collapsed": true,
    "pycharm": {
     "name": "#%%\n"
    }
   },
   "outputs": [],
   "source": [
    "import xarray as xr\n",
    "import pandas as pd\n",
    "import os\n",
    "import numpy as np\n"
   ]
  },
  {
   "cell_type": "code",
   "execution_count": 2,
   "outputs": [],
   "source": [
    "# Depending on the machine on which the code is run, data might be stored in different directories.\n",
    "# Indicate which machine is used to make sure the path to the data can be found.\n",
    "# Can either be \"local\" or \"Snellius\"\n",
    "\n",
    "MACHINE = 'local'\n",
    "\n",
    "if MACHINE == 'Snellius':\n",
    "    pred_var_path = '/gpfs/work1/0/ctdas/awoude/Ritten/predictor_vars/' # For retrieving the set of aggregated scaling vectors\n",
    "\n",
    "    SAVE_DIR = pers_file_dir = '/gpfs/work1/0/ctdas/awoude/Ritten/trained_models/' # used for storing the trained model\n",
    "\n",
    "    SF_DIR = '/gpfs/work1/0/ctdas/awoude/Ritten/fitted_sf/' # used for storing the scaling factor produced bij ML models\n",
    "\n",
    "    RESULTS_DIR = '/gpfs/work1/0/ctdas/awoude/Ritten/results/' # used for storing the trained model\n",
    "\n",
    "elif MACHINE == 'local':\n",
    "    pred_var_path = './' # For retrieving the set of aggregated scaling vectors\n",
    "\n",
    "    SAVE_DIR = pers_file_dir = './models/' # used for storing the trained model\n",
    "\n",
    "    SF_DIR = './fitted_sf/' # used for storing the scaling factor produced bij ML models\n",
    "\n",
    "    RESULTS_DIR = './results/'\n",
    "\n",
    "\n",
    "transCom_dict = {1:'North American Boreal',\n",
    "                   2:'North American Temperate',\n",
    "                   7:'Eurasia Boreal',\n",
    "                   8:'Eurasia Temperate',\n",
    "                   11:'Europe',\n",
    "                  }"
   ],
   "metadata": {
    "collapsed": false,
    "pycharm": {
     "name": "#%%\n"
    }
   }
  },
  {
   "cell_type": "code",
   "execution_count": 3,
   "outputs": [],
   "source": [
    "\n",
    "# Loading all necessary data\n",
    "with xr.open_dataset(pred_var_path + 'vars_per_eco_update.nc') as ds:\n",
    "    complete_ds = ds\n"
   ],
   "metadata": {
    "collapsed": false,
    "pycharm": {
     "name": "#%%\n"
    }
   }
  },
  {
   "cell_type": "code",
   "execution_count": 8,
   "outputs": [
    {
     "data": {
      "text/plain": "Data variables:\n    regions           (lat, lon) float32 240.0 240.0 240.0 ... 210.0 210.0 210.0\n    grid_cell_weight  (lat, lon) float64 1.079e+08 1.079e+08 ... 1.079e+08\n    grid_cell_area    (lat, lon) float32 1.079e+08 1.079e+08 ... 1.079e+08\n    TER               (lat, lon) float64 nan nan nan nan nan ... nan nan nan nan\n    monthly_flux      (eco_regions, time) float64 1.726e+06 ... 1.367e+05\n    smoothed_flux     (eco_regions, time) float64 1.726e+06 ... 9.337e+04\n    opt_flux          (eco_regions, time) float32 3.813e+05 ... 1.211e+05\n    prior_flux_per_s  (eco_regions, time) float32 1.726e+06 ... 1.32e+05\n    scaling_factor    (eco_regions, time) float32 146.5 231.4 ... 220.6 186.4\n    sf_per_eco        (eco_regions, time) float32 0.2209 0.7194 ... 0.9176\n    monthly_sf        (eco_regions, time) float64 1.0 0.2146 ... 1.036 1.035\n    smoothed_sf       (eco_regions, time) float64 1.0 0.7382 ... 0.6828 0.7072\n    g10m_MAX          (eco_regions, time) float64 12.99 13.69 ... 14.22 20.3\n    swvl1_MIN         (eco_regions, time) float64 0.3113 0.311 ... 0.06499\n    swvl1_MAX         (eco_regions, time) float64 0.3202 0.3156 ... 0.07402\n    slhf_MIN          (eco_regions, time) float64 -22.05 -30.82 ... -253.5\n    slhf_MAX          (eco_regions, time) float64 9.936 5.742 ... -15.77 -45.68\n    slhf_AVG          (eco_regions, time) float64 -3.887 -4.393 ... -124.5\n    sshf_MIN          (eco_regions, time) float64 -60.45 -65.47 ... -65.9 -86.41\n    sshf_MAX          (eco_regions, time) float64 59.26 52.27 ... 10.67 13.44\n    sshf_AVG          (eco_regions, time) float64 9.942 5.732 ... -12.62 -22.44\n    ssrd_MIN          (eco_regions, time) float64 0.0 0.0 0.0 ... 0.0 0.0 0.0\n    ssrd_MAX          (eco_regions, time) float64 199.8 221.0 ... 349.8 375.3\n    ssrd_AVG          (eco_regions, time) float64 27.59 30.26 ... 64.17 69.02\n    u10m_AVG          (eco_regions, time) float64 0.9284 0.5798 ... 0.6123 2.737\n    v10m_AVG          (eco_regions, time) float64 0.1766 -0.3503 ... 2.348\n    blh_MAX           (eco_regions, time) float64 764.8 976.4 ... 1.492e+03\n    d2m_MIN           (eco_regions, time) float64 242.8 239.9 ... 276.4 274.8\n    d2m_MAX           (eco_regions, time) float64 261.1 264.1 ... 284.4 282.6\n    d2m_AVG           (eco_regions, time) float64 250.2 250.9 ... 281.3 278.9\n    lsp_SUM           (eco_regions, time) float64 4.308e-06 ... 2.463e-06\n    skt_MIN           (eco_regions, time) float64 243.9 241.5 ... 284.5 283.7\n    skt_MAX           (eco_regions, time) float64 263.2 266.1 ... 287.4 286.7\n    skt_AVG           (eco_regions, time) float64 252.5 253.3 ... 285.9 285.2\n    src_MIN           (eco_regions, time) float64 0.0002412 ... 5.888e-06\n    src_AVG           (eco_regions, time) float64 0.0002499 ... 3.503e-05\n    ssr_MAX           (eco_regions, time) float64 124.2 135.4 ... 318.6 342.3\n    ssr_AVG           (eco_regions, time) float64 17.05 18.5 ... 58.32 62.66\n    t2m_MIN           (eco_regions, time) float64 245.9 243.1 ... 281.4 280.6\n    t2m_MAX           (eco_regions, time) float64 263.7 266.3 ... 287.2 286.5\n    t2m_AVG           (eco_regions, time) float64 253.4 253.9 ... 284.7 283.7\n    ci_AVG            (eco_regions, time) float64 0.01315 0.01459 ... 0.01479\n    cp_MAX            (eco_regions, time) float64 4.911e-08 ... 2.97e-07\n    cp_SUM            (eco_regions, time) float64 3.543e-07 ... 5.114e-06\n    sd_MIN            (eco_regions, time) float64 0.09296 0.1056 ... 0.0006525\n    sd_MAX            (eco_regions, time) float64 0.1084 0.1165 ... 0.001365\n    sf_AVG            (eco_regions, time) float64 2.566e-08 ... 1.678e-09\n    sf_MAX            (eco_regions, time) float64 2.613e-07 ... 2.135e-08\n    s10m_AVG          (eco_regions, time) float64 1.443 1.22 ... 1.926 5.236\n    eco_area          (eco_regions) float32 2.315e+12 5.923e+11 ... 1.485e+12"
     },
     "execution_count": 8,
     "metadata": {},
     "output_type": "execute_result"
    }
   ],
   "source": [
    "complete_ds.loc"
   ],
   "metadata": {
    "collapsed": false,
    "pycharm": {
     "name": "#%%\n"
    }
   }
  }
 ],
 "metadata": {
  "kernelspec": {
   "display_name": "Python 3",
   "language": "python",
   "name": "python3"
  },
  "language_info": {
   "codemirror_mode": {
    "name": "ipython",
    "version": 2
   },
   "file_extension": ".py",
   "mimetype": "text/x-python",
   "name": "python",
   "nbconvert_exporter": "python",
   "pygments_lexer": "ipython2",
   "version": "2.7.6"
  }
 },
 "nbformat": 4,
 "nbformat_minor": 0
}