{
 "cells": [
  {
   "cell_type": "markdown",
   "source": [
    "# Code for generating figures appendix\n",
    "This notebook contains an overview of where each of the figures within the appendix is generated."
   ],
   "metadata": {
    "collapsed": false
   }
  },
  {
   "cell_type": "markdown",
   "source": [
    "## B.1\n",
    "In the `./figures_used_in_thesis_p1.ipynb` notebook, final cell\n",
    "\n",
    "## B.2 - B.3\n",
    "In the `./SARIMA.ipynb` notebook, 5th cell\n",
    "\n",
    "## B.4 - B.7\n",
    "In the `./figures_used_for_thesis_p2.ipynb` notebook, as it uses the same code as Figure 9.1. Set the `eval_space`, `used_perf_measures` and `tc_subset` parameters to the max to generate the plots\n",
    "\n"
   ],
   "metadata": {
    "collapsed": false
   }
  },
  {
   "cell_type": "markdown",
   "source": [],
   "metadata": {
    "collapsed": false
   }
  },
  {
   "cell_type": "markdown",
   "source": [],
   "metadata": {
    "collapsed": false
   }
  },
  {
   "cell_type": "markdown",
   "source": [],
   "metadata": {
    "collapsed": false
   }
  }
 ],
 "metadata": {
  "kernelspec": {
   "display_name": "Python 3",
   "language": "python",
   "name": "python3"
  },
  "language_info": {
   "codemirror_mode": {
    "name": "ipython",
    "version": 2
   },
   "file_extension": ".py",
   "mimetype": "text/x-python",
   "name": "python",
   "nbconvert_exporter": "python",
   "pygments_lexer": "ipython2",
   "version": "2.7.6"
  }
 },
 "nbformat": 4,
 "nbformat_minor": 0
}
